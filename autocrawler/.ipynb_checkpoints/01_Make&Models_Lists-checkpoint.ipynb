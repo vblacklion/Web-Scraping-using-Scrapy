{
 "cells": [
  {
   "cell_type": "code",
   "execution_count": 1,
   "metadata": {},
   "outputs": [],
   "source": [
    "makes = ['audi', 'bmw', 'ford', 'mercedes-benz', 'opel', 'renault', 'volkswagen', '9ff', 'abarth', 'ac', 'acm', 'acura',\n",
    "         'aixam', 'alfa-romeo', 'alpina', 'alpine', 'amphicar', 'ariel-motor', 'artega', 'aspid', 'aston-martin',\n",
    "         'austin', 'autobianchi', 'auverland', 'baic', 'bedford', 'bellier', 'bentley', 'bolloré', 'borgward',\n",
    "         'brilliance', 'bugatti', 'buick', 'byd', 'cadillac', 'caravans-wohnm', 'casalini', 'caterham', 'changhe',\n",
    "         'chatenet', 'chery', 'chevrolet', 'chrysler', 'citroen', 'cityel', 'cmc', 'corvette', 'courb', 'cupra', 'dacia',\n",
    "         'daewoo', 'daf', 'daihatsu', 'daimler', 'dangel', 'de-la-chapelle', 'de-tomaso', 'derways', 'dfsk', 'dodge',\n",
    "         'donkervoort', 'dr-motor', 'ds-automobiles', 'dutton', 'e.go', 'estrima', 'ferrari', 'fiat', 'fisker',\n",
    "         'gac-gonow', 'galloper', 'gaz', 'geely', 'gem', 'gemballa', 'genesis', 'gillet', 'giotti-victoria', 'gmc',\n",
    "         'great-wall', 'grecav', 'haima', 'hamann', 'honda', 'hummer', 'hurtan', 'hyundai', 'infiniti', 'innocenti',\n",
    "         'iso-rivolta', 'isuzu', 'iveco', 'izh', 'jaguar', 'jeep', 'karabag', 'kia', 'koenigsegg', 'ktm', 'lada',\n",
    "         'lamborghini', 'lancia', 'land-rover', 'ldv', 'lexus', 'lifan', 'ligier', 'lincoln', 'lotus', 'mahindra',\n",
    "         'man', 'mansory', 'martin-motors', 'maserati', 'maxus', 'maybach', 'mazda', 'mclaren', 'melex', 'mg', 'microcar',\n",
    "         'minauto', 'mini', 'mitsubishi', 'mitsuoka', 'morgan', 'moskvich', 'mp-lafer', 'mpm-motors', 'nio', 'nissan',\n",
    "         'oldsmobile', 'oldtimer', 'pagani', 'panther-westwinds', 'peugeot', 'pgo', 'piaggio', 'plymouth', 'pontiac',\n",
    "         'porsche', 'proton', 'puch', 'qoros', 'qvale', 'ram', 'reliant', 'rolls-royce', 'rover', 'ruf', 'saab',\n",
    "         'santana', 'savel', 'sdg', 'seat', 'shuanghuan', 'skoda', 'smart', 'speedart', 'spyker', 'ssangyong',\n",
    "         'streetscooter', 'subaru', 'suzuki', 'tagaz', 'talbot', 'tasso', 'tata', 'tazzari-ev', 'techart', 'tesla',\n",
    "         'town-life', 'toyota', 'trabant', 'triumph', 'tvr', 'uaz', 'vanderhall', 'vaz', 'vem', 'volvo', 'vortex',\n",
    "         'wallys', 'wartburg', 'westfield', 'wiesmann', 'zastava', 'zaz', 'zhidou', 'zotye']"
   ]
  },
  {
   "cell_type": "code",
   "execution_count": null,
   "metadata": {},
   "outputs": [],
   "source": [
    "audi_models = ['100', '200', '50', '80', '90', 'a1', 'a2', 'a3', 'a4', 'a4-allroad', 'a5', 'a6', 'a6-allroad', 'a7', 'a8',\n",
    "               'allroad', 'cabriolet', 'coupe', 'e-tron', 'q2', 'q3', 'q5', 'q7', 'q8', 'quattro', 'r8', 'rs', 'rs-q3',\n",
    "               'rs-q5', 'rs2', 'rs3', 'rs4', 'rs5', 'rs6', 'rs7', 's1', 's2', 's3', 's4', 's5', 's6', 's7', 's8', 'sq2',\n",
    "               'sq5', 'sq7', 'tt', 'tt-rs', 'tts', 'v8']"
   ]
  },
  {
   "cell_type": "code",
   "execution_count": null,
   "metadata": {},
   "outputs": [],
   "source": [
    "top_makes = ['audi', 'bmw', 'ford', 'mercedes-benz', 'opel', 'renault', 'volkswagen']"
   ]
  }
 ],
 "metadata": {
  "kernelspec": {
   "display_name": "Python 3",
   "language": "python",
   "name": "python3"
  },
  "language_info": {
   "codemirror_mode": {
    "name": "ipython",
    "version": 3
   },
   "file_extension": ".py",
   "mimetype": "text/x-python",
   "name": "python",
   "nbconvert_exporter": "python",
   "pygments_lexer": "ipython3",
   "version": "3.7.3"
  }
 },
 "nbformat": 4,
 "nbformat_minor": 2
}
