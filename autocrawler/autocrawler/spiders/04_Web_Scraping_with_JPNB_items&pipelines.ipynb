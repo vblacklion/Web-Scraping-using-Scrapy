{
 "cells": [
  {
   "cell_type": "code",
   "execution_count": 30,
   "metadata": {
    "collapsed": true
   },
   "outputs": [
    {
     "name": "stdout",
     "output_type": "stream",
     "text": [
      "Scrapy 1.6.0 - project: autocrawler\n",
      "\n",
      "Usage:\n",
      "  scrapy <command> [options] [args]\n",
      "\n",
      "Available commands:\n",
      "  bench         Run quick benchmark test\n",
      "  check         Check spider contracts\n",
      "  crawl         Run a spider\n",
      "  edit          Edit spider\n",
      "  fetch         Fetch a URL using the Scrapy downloader\n",
      "  genspider     Generate new spider using pre-defined templates\n",
      "  list          List available spiders\n",
      "  parse         Parse URL (using its spider) and print the results\n",
      "  runspider     Run a self-contained spider (without creating a project)\n",
      "  settings      Get settings values\n",
      "  shell         Interactive scraping console\n",
      "  startproject  Create new project\n",
      "  version       Print Scrapy version\n",
      "  view          Open URL in browser, as seen by Scrapy\n",
      "\n",
      "Use \"scrapy <command> -h\" to see more info about a command\n"
     ]
    }
   ],
   "source": [
    "!activate ScrapyEnvironment\n",
    "! scrapy -h"
   ]
  },
  {
   "cell_type": "code",
   "execution_count": 38,
   "metadata": {},
   "outputs": [],
   "source": [
    "import scrapy"
   ]
  },
  {
   "cell_type": "code",
   "execution_count": null,
   "metadata": {},
   "outputs": [],
   "source": [
    "# Importing scrapy\n",
    "import scrapy\n",
    "from scrapy.crawler import CrawlerProcess\n",
    "# Defining the spider class\n",
    "# MMWD: Multiple Models With Details\n",
    "\n",
    "# import items from items.py\n",
    "\n",
    "from autocrawler.items import AutocrawlerItem\n",
    "\n",
    "class ScoutAutoCrawler(scrapy.Spider):\n",
    "    \n",
    "    name = \"scout_mmwd\"\n",
    "    \n",
    "    allowed_domains = [\"autoscout24.com\"]\n",
    "    \n",
    "    def start_requests( self ):         \n",
    "        page_number = 1\n",
    "        base_url = \"https://www.autoscout24.com/\"\n",
    "        makes = ['audi', 'opel', 'renault']\n",
    "        models = {\"audi\" : ['a4', 'a6', 'a5'],\n",
    "                  \"opel\" : ['corsa', 'adam', 'meriva'],\n",
    "                  \"renault\" : ['clio', 'duster', 'scenic']\n",
    "                  }\n",
    "        years = [\"2014\", \"2015\"]\n",
    "        desc = [\"0\", \"1\"]\n",
    "        gear = [\"A\", \"M\", \"S\"]\n",
    "        \n",
    "        \n",
    "        #for i in range(3):\n",
    "        #    l = len(models[makes[i]])\n",
    "        #    for x in range(l):\n",
    "        #        for y in range(2):\n",
    "        #            for a in range(2):\n",
    "        #                for g in range(3):\n",
    "        #                    for page_number in range(1,21):\n",
    "        #                \n",
    "        #                        url = base_url+\"lst/\"+makes[i]+\"/\"+models[makes[i]][x]+\"?sort=price&\\\n",
    "        #                        desc=\"+desc[a]+\"&gear=\"+gear[g]+\"&ustate=N%2CU&size=20&page=\"+str(page_number)+\"&\\\n",
    "        #                        fregto=\"+years[y]+\"&fregfrom=\"+years[y]+\"&atype=C&\"\n",
    "        \n",
    "        for page_number in range(1,21):\n",
    "            url = base_url + \"lst/cupra?sort=price&desc=0&ustate=N%2CU&size=20&page=\"+str(page_number)+\"1&atype=C&\"\n",
    "        \n",
    "            yield scrapy.Request( url = url, dont_filter = False, callback = self.parse) \n",
    "    \n",
    "\n",
    "    def parse(self, response):\n",
    "        \n",
    "        base_url = \"https://www.autoscout24.com/\"\n",
    "        all_auto_divs = response.css(\".cldt-summary-full-item-main\")\n",
    "        \n",
    "        for auto_divs in all_auto_divs:\n",
    "            \n",
    "            #advertisement details link finder\n",
    "            detail_page = auto_divs.css(\".cldt-summary-titles\")\n",
    "            link = detail_page.css('a::attr(href)').extract_first()          \n",
    "        \n",
    "            yield scrapy.Request( url = base_url+link, callback = self.parse_details)\n",
    "        \n",
    "    \n",
    "    def parse_details(self, response):\n",
    "        \n",
    "        items = AutocrawlerItem()\n",
    "        \n",
    "        headline = response.css(\".cldt-headline\")\n",
    "        model = headline.css(\"h1.cldt-detail-title > span:nth-child(1) ::text\").extract_first()\n",
    "        version = headline.css(\"h1.cldt-detail-title > span:nth-child(2) ::text\").extract_first()\n",
    "        body_type = headline.css(\"h4.cldt-detail-subheadline ::text\").extract_first()\n",
    "        \n",
    "        stage = response.css(\".cldt-stage-data\")\n",
    "        price = stage.css(\"div.cldt-price > h2 ::text\").extract_first()\n",
    "        vat = stage.css(\"div.cldt-stage-headline > div:nth-child(2) > p > span ::text\").extract()\n",
    "        km = stage.css(\"div.cldt-stage-basic-data > div:nth-child(1) > span ::text\").extract()\n",
    "        registration = stage.css(\"div.cldt-stage-basic-data > div:nth-child(2) > span ::text\").extract()\n",
    "        kW = stage.css(\"div.cldt-stage-basic-data > div:nth-child(3) > span:nth-child(1) ::text\").extract()\n",
    "        hp = stage.css(\"div.cldt-stage-basic-data > div:nth-child(3) > span:nth-child(2) ::text\").extract()\n",
    "        \n",
    "        items[\"model\"] = model\n",
    "        items[\"version\"] = version\n",
    "        items[\"body_type\"] = body_type\n",
    "        items[\"price\"] = price\n",
    "        items[\"vat\"] = vat\n",
    "        items[\"km\"] = km\n",
    "        items[\"registration\"] = registration\n",
    "        items[\"kW\"] = kW\n",
    "        items[\"hp\"] = hp\n",
    "        items[\"url\"] = response.url\n",
    "        \n",
    "        yield items\n",
    "\n",
    "            \n",
    "process = CrawlerProcess({'FEED_URI': 'output.json',}) \n",
    " \n",
    "process.crawl(ScoutAutoCrawler) \n",
    " \n",
    "process.start() "
   ]
  },
  {
   "cell_type": "code",
   "execution_count": 46,
   "metadata": {},
   "outputs": [
    {
     "data": {
      "text/plain": [
       "['line 1', 'line 2', 'line 3', 'line 4']"
      ]
     },
     "execution_count": 46,
     "metadata": {},
     "output_type": "execute_result"
    }
   ],
   "source": [
    "text = \"line 1\\nline 2\\nline 3\\nline 4\"\n",
    "text.splitlines()"
   ]
  },
  {
   "cell_type": "code",
   "execution_count": null,
   "metadata": {},
   "outputs": [],
   "source": []
  }
 ],
 "metadata": {
  "kernelspec": {
   "display_name": "Python 3",
   "language": "python",
   "name": "python3"
  },
  "language_info": {
   "codemirror_mode": {
    "name": "ipython",
    "version": 3
   },
   "file_extension": ".py",
   "mimetype": "text/x-python",
   "name": "python",
   "nbconvert_exporter": "python",
   "pygments_lexer": "ipython3",
   "version": "3.7.3"
  }
 },
 "nbformat": 4,
 "nbformat_minor": 2
}
