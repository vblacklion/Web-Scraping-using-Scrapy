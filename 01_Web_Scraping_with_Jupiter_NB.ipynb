{
 "cells": [
  {
   "cell_type": "markdown",
   "metadata": {},
   "source": [
    "Scrapy modul creates automatically the required file and folders for you. However you do not always need them. Simply you can write your code in Jupiter Notebook and run it."
   ]
  },
  {
   "cell_type": "markdown",
   "metadata": {},
   "source": [
    "Here is an example:\n",
    "\n",
    "The code below scraps the information of cars in autoscout24.com webpage.\n",
    "Here is you can see the selected model's information:\n",
    "\n",
    "make-model : BMW X3 \n",
    "year : 2018\n",
    "gear type : Automatic \n",
    "\n",
    "And an important note: Please check the websites robots.txt page that you would like to scrape. you can see if there are any restrictions about scraping that url.\n",
    "\n",
    "For Autoscout24.com you can see the robots.txt file simply writing this:\n",
    "\"https://www.autoscout24.com/robots.txt\""
   ]
  },
  {
   "cell_type": "code",
   "execution_count": null,
   "metadata": {},
   "outputs": [],
   "source": [
    "# Writing the code..."
   ]
  },
  {
   "cell_type": "code",
   "execution_count": 1,
   "metadata": {},
   "outputs": [],
   "source": [
    "# First, Importing necessary libraries\n",
    "import scrapy\n",
    "from scrapy.crawler import CrawlerProcess"
   ]
  },
  {
   "cell_type": "code",
   "execution_count": 3,
   "metadata": {},
   "outputs": [
    {
     "name": "stderr",
     "output_type": "stream",
     "text": [
      "2019-06-14 23:27:09 [scrapy.utils.log] INFO: Scrapy 1.6.0 started (bot: scrapybot)\n",
      "2019-06-14 23:27:09 [scrapy.utils.log] INFO: Versions: lxml 4.3.2.0, libxml2 2.9.9, cssselect 1.0.3, parsel 1.5.1, w3lib 1.20.0, Twisted 19.2.0, Python 3.7.3 (default, Mar 27 2019, 17:13:21) [MSC v.1915 64 bit (AMD64)], pyOpenSSL 19.0.0 (OpenSSL 1.1.1b  26 Feb 2019), cryptography 2.6.1, Platform Windows-10-10.0.17134-SP0\n",
      "2019-06-14 23:27:09 [scrapy.crawler] INFO: Overridden settings: {}\n",
      "2019-06-14 23:27:09 [scrapy.extensions.telnet] INFO: Telnet Password: 52f64b4d246a9f26\n",
      "2019-06-14 23:27:09 [scrapy.middleware] INFO: Enabled extensions:\n",
      "['scrapy.extensions.corestats.CoreStats',\n",
      " 'scrapy.extensions.telnet.TelnetConsole',\n",
      " 'scrapy.extensions.logstats.LogStats']\n",
      "2019-06-14 23:27:09 [scrapy.middleware] INFO: Enabled downloader middlewares:\n",
      "['scrapy.downloadermiddlewares.httpauth.HttpAuthMiddleware',\n",
      " 'scrapy.downloadermiddlewares.downloadtimeout.DownloadTimeoutMiddleware',\n",
      " 'scrapy.downloadermiddlewares.defaultheaders.DefaultHeadersMiddleware',\n",
      " 'scrapy.downloadermiddlewares.useragent.UserAgentMiddleware',\n",
      " 'scrapy.downloadermiddlewares.retry.RetryMiddleware',\n",
      " 'scrapy.downloadermiddlewares.redirect.MetaRefreshMiddleware',\n",
      " 'scrapy.downloadermiddlewares.httpcompression.HttpCompressionMiddleware',\n",
      " 'scrapy.downloadermiddlewares.redirect.RedirectMiddleware',\n",
      " 'scrapy.downloadermiddlewares.cookies.CookiesMiddleware',\n",
      " 'scrapy.downloadermiddlewares.httpproxy.HttpProxyMiddleware',\n",
      " 'scrapy.downloadermiddlewares.stats.DownloaderStats']\n",
      "2019-06-14 23:27:09 [scrapy.middleware] INFO: Enabled spider middlewares:\n",
      "['scrapy.spidermiddlewares.httperror.HttpErrorMiddleware',\n",
      " 'scrapy.spidermiddlewares.offsite.OffsiteMiddleware',\n",
      " 'scrapy.spidermiddlewares.referer.RefererMiddleware',\n",
      " 'scrapy.spidermiddlewares.urllength.UrlLengthMiddleware',\n",
      " 'scrapy.spidermiddlewares.depth.DepthMiddleware']\n",
      "2019-06-14 23:27:09 [scrapy.middleware] INFO: Enabled item pipelines:\n",
      "[]\n",
      "2019-06-14 23:27:09 [scrapy.core.engine] INFO: Spider opened\n",
      "2019-06-14 23:27:09 [scrapy.extensions.logstats] INFO: Crawled 0 pages (at 0 pages/min), scraped 0 items (at 0 items/min)\n",
      "2019-06-14 23:27:09 [scrapy.extensions.telnet] INFO: Telnet console listening on 127.0.0.1:6023\n",
      "2019-06-14 23:27:10 [scrapy.core.engine] DEBUG: Crawled (200) <GET https://www.autoscout24.com/lst/bmw/x3?sort=price&desc=0&gear=A%20%20%20%20&ustate=N%2CU&size=20&page=1&fregto=2018&fregfrom=2018&atype=C&> (referer: None)\n",
      "2019-06-14 23:27:10 [scrapy.core.scraper] DEBUG: Scraped from <200 https://www.autoscout24.com/lst/bmw/x3?sort=price&desc=0&gear=A%20%20%20%20&ustate=N%2CU&size=20&page=1&fregto=2018&fregfrom=2018&atype=C&>\n",
      "{'model': 'BMW X3', 'version': 'XDRIVE 20D AUTOMATIK*XENON*PANORAMADACH*TEMPOMAT', 'price': '\\n€ 33,250.-\\n', 'km': '\\n19,987 km\\n', 'registration': '\\n01/2018\\n', 'hp': '\\n140 kW (190 hp)\\n', 'condition': '\\nUsed\\n', 'previous_owner': '\\n1 previous owner\\n', 'gear_type': '\\nAutomatic\\n', 'fuel_type': '\\nDiesel\\n'}\n",
      "2019-06-14 23:27:10 [scrapy.core.scraper] DEBUG: Scraped from <200 https://www.autoscout24.com/lst/bmw/x3?sort=price&desc=0&gear=A%20%20%20%20&ustate=N%2CU&size=20&page=1&fregto=2018&fregfrom=2018&atype=C&>\n",
      "{'model': 'BMW X3', 'version': 'xDrive20d', 'price': '\\n€ 34,100.-\\n', 'km': '\\n20,000 km\\n', 'registration': '\\n01/2018\\n', 'hp': '\\n140 kW (190 hp)\\n', 'condition': '\\nUsed\\n', 'previous_owner': '\\n1 previous owner\\n', 'gear_type': '\\nAutomatic\\n', 'fuel_type': '\\nDiesel\\n'}\n",
      "2019-06-14 23:27:10 [scrapy.core.scraper] DEBUG: Scraped from <200 https://www.autoscout24.com/lst/bmw/x3?sort=price&desc=0&gear=A%20%20%20%20&ustate=N%2CU&size=20&page=1&fregto=2018&fregfrom=2018&atype=C&>\n",
      "{'model': 'BMW X3', 'version': 'xDrive20d Business Advantage Aut.', 'price': '\\n€ 34,900.-\\n', 'km': '\\n69,500 km\\n', 'registration': '\\n01/2018\\n', 'hp': '\\n140 kW (190 hp)\\n', 'condition': '\\nUsed\\n', 'previous_owner': '\\n-/- (Previous Owners)\\n', 'gear_type': '\\nAutomatic\\n', 'fuel_type': '\\nDiesel\\n'}\n",
      "2019-06-14 23:27:10 [scrapy.core.scraper] DEBUG: Scraped from <200 https://www.autoscout24.com/lst/bmw/x3?sort=price&desc=0&gear=A%20%20%20%20&ustate=N%2CU&size=20&page=1&fregto=2018&fregfrom=2018&atype=C&>\n",
      "{'model': 'BMW X3', 'version': 'sDrive18dA 150ch Lounge Plus', 'price': '\\n€ 35,455.-\\n', 'km': '\\n14,800 km\\n', 'registration': '\\n01/2018\\n', 'hp': '\\n112 kW (152 hp)\\n', 'condition': '\\nUsed\\n', 'previous_owner': '\\n1 previous owner\\n', 'gear_type': '\\nAutomatic\\n', 'fuel_type': '\\nDiesel\\n'}\n",
      "2019-06-14 23:27:10 [scrapy.core.scraper] DEBUG: Scraped from <200 https://www.autoscout24.com/lst/bmw/x3?sort=price&desc=0&gear=A%20%20%20%20&ustate=N%2CU&size=20&page=1&fregto=2018&fregfrom=2018&atype=C&>\n",
      "{'model': 'BMW X3', 'version': 'xDrive35i xLine,Kamera,Pano,LED,HK-Sound,360°', 'price': '\\n€ 35,500.-\\n', 'km': '\\n17,700 km\\n', 'registration': '\\n02/2018\\n', 'hp': '\\n225 kW (306 hp)\\n', 'condition': '\\nUsed\\n', 'previous_owner': '\\n1 previous owner\\n', 'gear_type': '\\nAutomatic\\n', 'fuel_type': '\\nGasoline\\n'}\n",
      "2019-06-14 23:27:10 [scrapy.core.scraper] DEBUG: Scraped from <200 https://www.autoscout24.com/lst/bmw/x3?sort=price&desc=0&gear=A%20%20%20%20&ustate=N%2CU&size=20&page=1&fregto=2018&fregfrom=2018&atype=C&>\n",
      "{'model': 'BMW X3', 'version': 'xDrive20d Advantage Automatik | EURO 6', 'price': '\\n€ 35,900.-\\n', 'km': '\\n20,332 km\\n', 'registration': '\\n01/2018\\n', 'hp': '\\n140 kW (190 hp)\\n', 'condition': '\\nUsed\\n', 'previous_owner': '\\n1 previous owner\\n', 'gear_type': '\\nAutomatic\\n', 'fuel_type': '\\nDiesel\\n'}\n",
      "2019-06-14 23:27:10 [scrapy.core.scraper] DEBUG: Scraped from <200 https://www.autoscout24.com/lst/bmw/x3?sort=price&desc=0&gear=A%20%20%20%20&ustate=N%2CU&size=20&page=1&fregto=2018&fregfrom=2018&atype=C&>\n",
      "{'model': 'BMW X3', 'version': \"xDrive20i AT Aut. Navi Hifi 18'' ParkingAss\", 'price': '\\n€ 35,950.-\\n', 'km': '\\n5,359 km\\n', 'registration': '\\n06/2018\\n', 'hp': '\\n135 kW (184 hp)\\n', 'condition': '\\nUsed\\n', 'previous_owner': '\\n1 previous owner\\n', 'gear_type': '\\nAutomatic\\n', 'fuel_type': '\\nGasoline\\n'}\n",
      "2019-06-14 23:27:10 [scrapy.core.scraper] DEBUG: Scraped from <200 https://www.autoscout24.com/lst/bmw/x3?sort=price&desc=0&gear=A%20%20%20%20&ustate=N%2CU&size=20&page=1&fregto=2018&fregfrom=2018&atype=C&>\n",
      "{'model': 'BMW X3', 'version': 'xDrive20i Advantage LED Navi Bus. AHK Shz', 'price': '\\n€ 36,800.-\\n', 'km': '\\n1,000 km\\n', 'registration': '\\n05/2018\\n', 'hp': '\\n135 kW (184 hp)\\n', 'condition': \"\\nEmployee's car\\n\", 'previous_owner': '\\n1 previous owner\\n', 'gear_type': '\\nAutomatic\\n', 'fuel_type': '\\nGasoline\\n'}\n",
      "2019-06-14 23:27:10 [scrapy.core.scraper] DEBUG: Scraped from <200 https://www.autoscout24.com/lst/bmw/x3?sort=price&desc=0&gear=A%20%20%20%20&ustate=N%2CU&size=20&page=1&fregto=2018&fregfrom=2018&atype=C&>\n",
      "{'model': 'BMW X3', 'version': 'xDrive20d Aut. M Sport', 'price': '\\n€ 36,900.-\\n', 'km': '\\n28,500 km\\n', 'registration': '\\n01/2018\\n', 'hp': '\\n140 kW (190 hp)\\n', 'condition': '\\nUsed\\n', 'previous_owner': '\\n1 previous owner\\n', 'gear_type': '\\nAutomatic\\n', 'fuel_type': '\\nDiesel\\n'}\n",
      "2019-06-14 23:27:10 [scrapy.core.scraper] DEBUG: Scraped from <200 https://www.autoscout24.com/lst/bmw/x3?sort=price&desc=0&gear=A%20%20%20%20&ustate=N%2CU&size=20&page=1&fregto=2018&fregfrom=2018&atype=C&>\n",
      "{'model': 'BMW X3', 'version': 'xDrive 20d AHK Navi SHZ PDC', 'price': '\\n€ 36,948.-\\n', 'km': '\\n16,924 km\\n', 'registration': '\\n05/2018\\n', 'hp': '\\n140 kW (190 hp)\\n', 'condition': '\\nUsed\\n', 'previous_owner': '\\n1 previous owner\\n', 'gear_type': '\\nAutomatic\\n', 'fuel_type': '\\nDiesel\\n'}\n",
      "2019-06-14 23:27:10 [scrapy.core.scraper] DEBUG: Scraped from <200 https://www.autoscout24.com/lst/bmw/x3?sort=price&desc=0&gear=A%20%20%20%20&ustate=N%2CU&size=20&page=1&fregto=2018&fregfrom=2018&atype=C&>\n",
      "{'model': 'BMW X3', 'version': 'xDrive20d Business Advantage Aut. 01/2018', 'price': '\\n€ 36,990.-\\n', 'km': '\\n21,000 km\\n', 'registration': '\\n01/2018\\n', 'hp': '\\n140 kW (190 hp)\\n', 'condition': \"\\nEmployee's car\\n\", 'previous_owner': '\\n1 previous owner\\n', 'gear_type': '\\nAutomatic\\n', 'fuel_type': '\\nDiesel\\n'}\n",
      "2019-06-14 23:27:10 [scrapy.core.scraper] DEBUG: Scraped from <200 https://www.autoscout24.com/lst/bmw/x3?sort=price&desc=0&gear=A%20%20%20%20&ustate=N%2CU&size=20&page=1&fregto=2018&fregfrom=2018&atype=C&>\n",
      "{'model': 'BMW X3', 'version': 'sDrive18d Business 110 kW (150 CV)', 'price': '\\n€ 37,900.-\\n', 'km': '\\n24,763 km\\n', 'registration': '\\n07/2018\\n', 'hp': '\\n110 kW (150 hp)\\n', 'condition': '\\nUsed\\n', 'previous_owner': '\\n-/- (Previous Owners)\\n', 'gear_type': '\\nAutomatic\\n', 'fuel_type': '\\nDiesel\\n'}\n"
     ]
    },
    {
     "name": "stderr",
     "output_type": "stream",
     "text": [
      "2019-06-14 23:27:10 [scrapy.core.scraper] DEBUG: Scraped from <200 https://www.autoscout24.com/lst/bmw/x3?sort=price&desc=0&gear=A%20%20%20%20&ustate=N%2CU&size=20&page=1&fregto=2018&fregfrom=2018&atype=C&>\n",
      "{'model': 'BMW X3', 'version': 'sDrive 18dA*ACABADO X LINE*MODELO NUEVO*1 DUEÑO', 'price': '\\n€ 37,900.-\\n', 'km': '\\n17,000 km\\n', 'registration': '\\n05/2018\\n', 'hp': '\\n110 kW (150 hp)\\n', 'condition': '\\nUsed\\n', 'previous_owner': '\\n-/- (Previous Owners)\\n', 'gear_type': '\\nAutomatic\\n', 'fuel_type': '\\nDiesel\\n'}\n",
      "2019-06-14 23:27:10 [scrapy.core.scraper] DEBUG: Scraped from <200 https://www.autoscout24.com/lst/bmw/x3?sort=price&desc=0&gear=A%20%20%20%20&ustate=N%2CU&size=20&page=1&fregto=2018&fregfrom=2018&atype=C&>\n",
      "{'model': 'BMW X3', 'version': 'xDrive20d 140 kW (190 CV)', 'price': '\\n€ 37,900.-\\n', 'km': '\\n17,979 km\\n', 'registration': '\\n02/2018\\n', 'hp': '\\n140 kW (190 hp)\\n', 'condition': '\\nUsed\\n', 'previous_owner': '\\n-/- (Previous Owners)\\n', 'gear_type': '\\nAutomatic\\n', 'fuel_type': '\\nDiesel\\n'}\n",
      "2019-06-14 23:27:10 [scrapy.core.scraper] DEBUG: Scraped from <200 https://www.autoscout24.com/lst/bmw/x3?sort=price&desc=0&gear=A%20%20%20%20&ustate=N%2CU&size=20&page=1&fregto=2018&fregfrom=2018&atype=C&>\n",
      "{'model': 'BMW X3', 'version': 'sDrive18dA 150ch Lounge Euro6c', 'price': '\\n€ 37,986.-\\n', 'km': '\\n6,484 km\\n', 'registration': '\\n06/2018\\n', 'hp': '\\n112 kW (152 hp)\\n', 'condition': '\\nUsed\\n', 'previous_owner': '\\n1 previous owner\\n', 'gear_type': '\\nAutomatic\\n', 'fuel_type': '\\nDiesel\\n'}\n",
      "2019-06-14 23:27:10 [scrapy.core.scraper] DEBUG: Scraped from <200 https://www.autoscout24.com/lst/bmw/x3?sort=price&desc=0&gear=A%20%20%20%20&ustate=N%2CU&size=20&page=1&fregto=2018&fregfrom=2018&atype=C&>\n",
      "{'model': 'BMW X3', 'version': 'xDrive 20dA', 'price': '\\n€ 38,165.-\\n', 'km': '\\n100 km\\n', 'registration': '\\n12/2018\\n', 'hp': '\\n140 kW (190 hp)\\n', 'condition': '\\nUsed\\n', 'previous_owner': '\\n1 previous owner\\n', 'gear_type': '\\nAutomatic\\n', 'fuel_type': '\\nDiesel\\n'}\n",
      "2019-06-14 23:27:10 [scrapy.core.scraper] DEBUG: Scraped from <200 https://www.autoscout24.com/lst/bmw/x3?sort=price&desc=0&gear=A%20%20%20%20&ustate=N%2CU&size=20&page=1&fregto=2018&fregfrom=2018&atype=C&>\n",
      "{'model': 'BMW X3', 'version': 'xDrive 20dA Alarma Nav Profess Apple Gestos Etc', 'price': '\\n€ 38,300.-\\n', 'km': '\\n5,000 km\\n', 'registration': '\\n01/2018\\n', 'hp': '\\n140 kW (190 hp)\\n', 'condition': '\\nUsed\\n', 'previous_owner': '\\n1 previous owner\\n', 'gear_type': '\\nAutomatic\\n', 'fuel_type': '\\nDiesel\\n'}\n",
      "2019-06-14 23:27:10 [scrapy.core.scraper] DEBUG: Scraped from <200 https://www.autoscout24.com/lst/bmw/x3?sort=price&desc=0&gear=A%20%20%20%20&ustate=N%2CU&size=20&page=1&fregto=2018&fregfrom=2018&atype=C&>\n",
      "{'model': 'BMW X3', 'version': '\"xDrive20d xDrive20d\"', 'price': '\\n€ 38,900.-\\n', 'km': '\\n35,000 km\\n', 'registration': '\\n05/2018\\n', 'hp': '\\n140 kW (190 hp)\\n', 'condition': '\\nUsed\\n', 'previous_owner': '\\n-/- (Previous Owners)\\n', 'gear_type': '\\nAutomatic\\n', 'fuel_type': '\\nDiesel\\n'}\n",
      "2019-06-14 23:27:10 [scrapy.core.scraper] DEBUG: Scraped from <200 https://www.autoscout24.com/lst/bmw/x3?sort=price&desc=0&gear=A%20%20%20%20&ustate=N%2CU&size=20&page=1&fregto=2018&fregfrom=2018&atype=C&>\n",
      "{'model': 'BMW X3', 'version': '\"xDrive20d xDrive20d\"', 'price': '\\n€ 38,900.-\\n', 'km': '\\n35,000 km\\n', 'registration': '\\n05/2018\\n', 'hp': '\\n140 kW (190 hp)\\n', 'condition': '\\nUsed\\n', 'previous_owner': '\\n-/- (Previous Owners)\\n', 'gear_type': '\\nAutomatic\\n', 'fuel_type': '\\nDiesel\\n'}\n",
      "2019-06-14 23:27:10 [scrapy.core.scraper] DEBUG: Scraped from <200 https://www.autoscout24.com/lst/bmw/x3?sort=price&desc=0&gear=A%20%20%20%20&ustate=N%2CU&size=20&page=1&fregto=2018&fregfrom=2018&atype=C&>\n",
      "{'model': 'BMW X3', 'version': '20d Panorama,Navi,LED', 'price': '\\n€ 38,900.-\\n', 'km': '\\n7,773 km\\n', 'registration': '\\n07/2018\\n', 'hp': '\\n140 kW (190 hp)\\n', 'condition': '\\nUsed\\n', 'previous_owner': '\\n-/- (Previous Owners)\\n', 'gear_type': '\\nAutomatic\\n', 'fuel_type': '\\nDiesel\\n'}\n",
      "2019-06-14 23:27:10 [scrapy.core.engine] INFO: Closing spider (finished)\n",
      "2019-06-14 23:27:10 [scrapy.statscollectors] INFO: Dumping Scrapy stats:\n",
      "{'downloader/request_bytes': 328,\n",
      " 'downloader/request_count': 1,\n",
      " 'downloader/request_method_count/GET': 1,\n",
      " 'downloader/response_bytes': 110166,\n",
      " 'downloader/response_count': 1,\n",
      " 'downloader/response_status_count/200': 1,\n",
      " 'finish_reason': 'finished',\n",
      " 'finish_time': datetime.datetime(2019, 6, 14, 21, 27, 10, 567190),\n",
      " 'item_scraped_count': 20,\n",
      " 'log_count/DEBUG': 21,\n",
      " 'log_count/INFO': 9,\n",
      " 'response_received_count': 1,\n",
      " 'scheduler/dequeued': 1,\n",
      " 'scheduler/dequeued/memory': 1,\n",
      " 'scheduler/enqueued': 1,\n",
      " 'scheduler/enqueued/memory': 1,\n",
      " 'start_time': datetime.datetime(2019, 6, 14, 21, 27, 9, 756567)}\n",
      "2019-06-14 23:27:10 [scrapy.core.engine] INFO: Spider closed (finished)\n"
     ]
    }
   ],
   "source": [
    "# Secondly, we shoud Define the spider class\n",
    "# A: for Automatic\n",
    "class BMW_X3_2018_A(scrapy.Spider):\n",
    "    \n",
    "    #name is mandatory, please use the variable \"name\" for naming your spider.\n",
    "    #However in this example we won't use it while this project is to show you exactly how to do this.\n",
    "    name = \"bmwx3_2018_A\"\n",
    "    \n",
    "    #this line is optional. \n",
    "    #If you want you can define allowed domains to make sure that your spider only scrape designated domain.\n",
    "    allowed_domains = [\"autoscout24.com\"]\n",
    "    \n",
    "    #Here you can copy and paste the desired link for scraping\n",
    "    start_urls = [\"https://www.autoscout24.com/lst/bmw/x3?sort=price&desc=0&gear=A\\\n",
    "    &ustate=N%2CU&size=20&page=1&fregto=2018&fregfrom=2018&atype=C&\"]\n",
    "    \n",
    "    #Write the code for scraping\n",
    "    def parse(self, response):\n",
    "        \n",
    "        items = {}\n",
    "        \n",
    "        all_bmwx3_divs = response.css(\".cldt-summary-full-item-main\")\n",
    "        \n",
    "        for bmwx3_divs in all_bmwx3_divs:\n",
    "            \n",
    "            model = bmwx3_divs.css(\".cldt-summary-makemodel::text\").extract_first()\n",
    "            version = bmwx3_divs.css(\".cldt-summary-version::text\").extract_first()\n",
    "            price = bmwx3_divs.css(\".cldt-price::text\").extract_first()\n",
    "            km = bmwx3_divs.css(\".cldt-summary-vehicle-data > ul > li:nth-child(1)::text\").extract_first()\n",
    "            registration = bmwx3_divs.css(\".cldt-summary-vehicle-data > ul > li:nth-child(2)::text\").extract_first()\n",
    "            hp = bmwx3_divs.css(\".cldt-summary-vehicle-data > ul > li:nth-child(3)::text\").extract_first()\n",
    "            condition = bmwx3_divs.css(\".cldt-summary-vehicle-data > ul > li:nth-child(4)::text\").extract_first()\n",
    "            previous_owner = bmwx3_divs.css(\".cldt-summary-vehicle-data > ul > li:nth-child(5)::text\").extract_first()\n",
    "            gear_type = bmwx3_divs.css(\".cldt-summary-vehicle-data > ul > li:nth-child(6)::text\").extract_first()\n",
    "            fuel_type = bmwx3_divs.css(\".cldt-summary-vehicle-data > ul > li:nth-child(7)::text\").extract_first()\n",
    "            \n",
    "            items[\"model\"] = model\n",
    "            items[\"version\"] = version\n",
    "            items[\"price\"] = price\n",
    "            items[\"km\"] = km\n",
    "            items[\"registration\"] = registration\n",
    "            items[\"hp\"] = hp\n",
    "            items[\"condition\"] = condition\n",
    "            items[\"previous_owner\"] = previous_owner\n",
    "            items[\"gear_type\"] = gear_type\n",
    "            items[\"fuel_type\"] = fuel_type\n",
    "    \n",
    "            #In scraping always use \"yield\" instead of return\n",
    "            yield items\n",
    "        \n",
    "                            \n",
    "                \n",
    "        \n",
    "process = CrawlerProcess() \n",
    "\n",
    "#For crawling prosess use the that you have defined for your Class...\n",
    "process.crawl(BMW_X3_2018_A) \n",
    "\n",
    "# Now run the code and you will get the results below the active window.\n",
    "process.start() "
   ]
  },
  {
   "cell_type": "markdown",
   "metadata": {},
   "source": [
    "As you can see crawling and scraping completed succesfully.\n",
    "You can save your results to an output file if you want using the code below.\n",
    "Just update the code with the code given below."
   ]
  },
  {
   "cell_type": "code",
   "execution_count": null,
   "metadata": {},
   "outputs": [],
   "source": [
    "#save to a Json file\n",
    "process = CrawlerProcess({'FEED_URI': 'output.json'})  "
   ]
  },
  {
   "cell_type": "code",
   "execution_count": null,
   "metadata": {},
   "outputs": [],
   "source": [
    "#saving to a csv file\n",
    "process = CrawlerProcess({'FEED_URI': 'output.csv'})\n",
    "\n",
    "#I do not recommend saving to csv since csv uses comma to separate colums.\n",
    "#And this could make your scraped date split into unwanted columns.\n",
    "\n",
    "#Thank you!"
   ]
  },
  {
   "cell_type": "markdown",
   "metadata": {},
   "source": [
    "One last thing, this code is prepared scraping only one html page (url).\n",
    "If you would like to crawl more than one url or would like to follow the links of the next page in your scraping, please check my other Jupiter_NB_file on github.\n",
    "\n",
    "\"https://github.com/vblacklion/Web-Scraping-with-Scrapy-using-Jupiter_Notebook/blob/master/02_Web_Scraping_with_JP_NB_Multiple_Pages.ipynb\""
   ]
  }
 ],
 "metadata": {
  "kernelspec": {
   "display_name": "Python 3",
   "language": "python",
   "name": "python3"
  },
  "language_info": {
   "codemirror_mode": {
    "name": "ipython",
    "version": 3
   },
   "file_extension": ".py",
   "mimetype": "text/x-python",
   "name": "python",
   "nbconvert_exporter": "python",
   "pygments_lexer": "ipython3",
   "version": "3.7.3"
  }
 },
 "nbformat": 4,
 "nbformat_minor": 2
}
