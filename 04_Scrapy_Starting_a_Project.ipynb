{
 "cells": [
  {
   "cell_type": "code",
   "execution_count": 1,
   "metadata": {},
   "outputs": [
    {
     "name": "stdout",
     "output_type": "stream",
     "text": [
      "New Scrapy project 'autocrawler', using template directory 'C:\\Users\\buono\\Anaconda3\\lib\\site-packages\\scrapy\\templates\\project', created in:\n",
      "    C:\\Users\\buono\\01_Data_Science\\01_GitHub\\Web-Scraping-with-Scrapy-using-Jupiter_Notebook\\autocrawler\n",
      "\n",
      "You can start your first spider with:\n",
      "    cd autocrawler\n",
      "    scrapy genspider example example.com\n"
     ]
    }
   ],
   "source": [
    "#starting a project\n",
    "!scrapy startproject autocrawler"
   ]
  },
  {
   "cell_type": "code",
   "execution_count": null,
   "metadata": {},
   "outputs": [],
   "source": []
  }
 ],
 "metadata": {
  "kernelspec": {
   "display_name": "Python 3",
   "language": "python",
   "name": "python3"
  },
  "language_info": {
   "codemirror_mode": {
    "name": "ipython",
    "version": 3
   },
   "file_extension": ".py",
   "mimetype": "text/x-python",
   "name": "python",
   "nbconvert_exporter": "python",
   "pygments_lexer": "ipython3",
   "version": "3.7.3"
  }
 },
 "nbformat": 4,
 "nbformat_minor": 2
}
